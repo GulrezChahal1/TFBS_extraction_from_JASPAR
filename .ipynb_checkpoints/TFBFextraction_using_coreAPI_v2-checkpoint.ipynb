{
 "cells": [
  {
   "cell_type": "code",
   "execution_count": 3,
   "metadata": {},
   "outputs": [],
   "source": [
    "#1.Accessing http://jaspar.genereg.net/api/clients#python to get the Matrix ID for the TF_names\n",
    "#2.Once those 90 TFs have been accessed, writing them to a file and extracting the URL correspoinding to their .jaspar matricx format\n",
    "#Step1:\n",
    "import coreapi\n",
    "import json\n",
    "from collections import OrderedDict \n",
    "result = OrderedDict()\n",
    "client = coreapi.Client()\n",
    "schema = client.get(\"http://jaspar.genereg.net/api/v1/docs\")\n",
    "\n",
    "action = [\"matrix\", \"list\"]\n",
    "TF_names=[\"ARID2\", \"ASCL1\", \"HAND1\", \"HAND2\", \"HELT\", \"HES1\", \"HEY1\", \"HEY2\", \"HEYL\", \"HIF1A\", \"MESP1\", \"MESP2\", \"SCX\", \"TWIST1\", \"ATF2\", \"CREB1\", \"JUN\", \"GLI1\", \"GLI2\", \"GLI3\", \"OSR1\", \"OVOL2\", \"PRDM1\", \"REST\", \"SALL1\", \"SALL4\", \"SNAI1\", \"SNAI2\", \"WT1\", \"YY1\", \"ZBTB14\", \"ZFPM1\", \"ZFPM2\", \"ZIC3\", \"ZEB2\", \"RBPJ\", \"TFDP2\", \"FOXC1\", \"FOXC2\", \"FOXF1\", \"FOXH1\", \"FOXJ1\", \"FOXL1\", \"FOXN4\", \"GATA1\", \"GATA3\", \"GATA4\", \"GATA5\", \"GATA6\", \"GRHL2\", \"SOX11\", \"SOX17\", \"SOX18\", \"SOX4\", \"SOX6\", \"SOX9\", \"IRX4\", \"ISL1\", \"LBX1\", \"MEIS1\", \"MIXL1\", \"MSX1\", \"MSX2\", \"NKX2-5\", \"NKX2-6\", \"NKX3-1\", \"NOTO\", \"PITX2\", \"SHOX2\", \"SIX1\", \"POU4F1\", \"POU4F2\", \"MEF2A\", \"MEF2C\", \"MEF2D\", \"SRF\", \"PPARA\", \"PPARD\", \"PPARG\", \"RARA\", \"RARB\", \"RXRA\", \"TP53\", \"TP73\", \"PAX8\", \"PROX1\", \"NFATC1\", \"NFATC4\", \"SMAD1\", \"SMAD3\", \"SMAD4\", \"EOMES\", \"TBXT\", \"TBX1\", \"TBX2\", \"TBX20\", \"TBX3\", \"TBX5\", \"TEAD2\"]\n",
    "\n",
    "#Step1: getting the matrix ID for the TFs using JASPAR coreAPI python client:url at the top\n",
    "#f = open('TFBS_JASPAR_Matrix_ID_info', 'w' )\n",
    "#step2:part1: writing the matrix id info to a txt file:\n",
    "f=open( 'TFBS_JASPAR_Matrix_ID_info.txt', 'w' )\n",
    "for i in range(len(TF_names)):\n",
    "    params = {\n",
    "        \"collection\": 'CORE',\n",
    "        \"name\": TF_names[i],\n",
    "        \"tax_group\": 'vertebrates',\n",
    "        \"version\": 'latest',\n",
    "        \"release\": '2018',\n",
    "        }\n",
    "    result[i]= client.action(schema, action, params=params)\n",
    "    f.write(json.dumps(result[i])+\"\\n\")\n",
    "result\n",
    "f.close()"
   ]
  },
  {
   "cell_type": "code",
   "execution_count": 40,
   "metadata": {
    "scrolled": true
   },
   "outputs": [],
   "source": [
    "import re\n",
    "f=open( 'TFBS_JASPAR_Matrix_ID_info.txt', 'r' )\n",
    "matrix_ID_v1=open ('Matrix_IDv1.txt','w')\n",
    "#i=0\n",
    "#pattern=re.compile(r'{\"{matrix_id\"\":\"\" \"MA[0-9]*.[0-9]')\n",
    "filetext=f.read()\n",
    "#for i in re.findall(pattern, Lines,99):\n",
    "#    Lines=f.readlines()\n",
    "\n",
    "#this works: matches=re.findall(r'[{\"matrix_id\": \"MA[0-9]*.[0-9]\"', filetext)\n",
    "#matches=re.findall(r'\"MA[0-9]*.[0-9]\"', filetext)\n",
    "matches=re.findall(r'/MA[0-9]*.[0-9]', filetext)\n",
    "#print(matches)\n",
    "IDs=str(matches)\n",
    "#print(IDs)\n",
    "Matrix_Id=IDs.replace(\"', '/\", \"\\n\" )\n",
    "Matrix_Id=Matrix_Id.replace(\"['/\",\"\") #for begining ['/MA1100.1\n",
    "Matrix_Id=Matrix_Id.replace(\"']\",\"\") #for end MA1121.1']\n",
    "matrix_ID_v1.write(Matrix_Id)\n",
    "matrix_ID_v1.close()\n",
    "\n",
    "\n",
    "####-----#####\n",
    "\n",
    "#to remove duplicates, applied the following command in the terminal:\n",
    "#sort Matrix_IDv1.txt | uniq >Matrix_IDv1_uniq.txt\n",
    "#####################################FINAL OUTPUT FILE: >Matrix_IDv1_uniq.txt################################"
   ]
  },
  {
   "cell_type": "code",
   "execution_count": 44,
   "metadata": {},
   "outputs": [],
   "source": [
    "f_v1=open ('Matrix_IDv1_uniq.txt','r')\n",
    "\n",
    "import requests\n",
    "\n",
    "\n",
    "for i in range(len(mID_v1)):\n",
    "    mID_v1 = f_v1.readlines()\n",
    "    print (\"here\" + mID_v1)\n",
    "    jaspar_matrix=requests.get('http://jaspar.genereg.net/api/v1/matrix/'+ mID_v1+'/?format=jaspar')\n",
    "    jaspar_matrix.content\n",
    "\n",
    "    #print(mID_front)\n",
    "\n",
    "    "
   ]
  },
  {
   "cell_type": "code",
   "execution_count": null,
   "metadata": {},
   "outputs": [],
   "source": []
  },
  {
   "cell_type": "code",
   "execution_count": 219,
   "metadata": {},
   "outputs": [
    {
     "ename": "NameError",
     "evalue": "name 'f4' is not defined",
     "output_type": "error",
     "traceback": [
      "\u001b[0;31m-------------------------------------------------------------------\u001b[0m",
      "\u001b[0;31mNameError\u001b[0m                         Traceback (most recent call last)",
      "\u001b[0;32m<ipython-input-219-a7e2c0935382>\u001b[0m in \u001b[0;36m<module>\u001b[0;34m\u001b[0m\n\u001b[1;32m      2\u001b[0m \u001b[0mjaspar_matrix\u001b[0m\u001b[0;34m=\u001b[0m\u001b[0mrequests\u001b[0m\u001b[0;34m.\u001b[0m\u001b[0mget\u001b[0m\u001b[0;34m(\u001b[0m\u001b[0;34m'http://jaspar.genereg.net/api/v1/matrix/MA1100.1/?format=jaspar'\u001b[0m\u001b[0;34m)\u001b[0m\u001b[0;34m\u001b[0m\u001b[0;34m\u001b[0m\u001b[0m\n\u001b[1;32m      3\u001b[0m \u001b[0mjaspar_matrix\u001b[0m\u001b[0;34m.\u001b[0m\u001b[0mcontent\u001b[0m\u001b[0;34m\u001b[0m\u001b[0;34m\u001b[0m\u001b[0m\n\u001b[0;32m----> 4\u001b[0;31m \u001b[0mf4\u001b[0m\u001b[0;34m.\u001b[0m\u001b[0mwrite\u001b[0m\u001b[0;34m(\u001b[0m\u001b[0mjaspar_matrix\u001b[0m\u001b[0;34m.\u001b[0m\u001b[0mcontent\u001b[0m\u001b[0;34m)\u001b[0m\u001b[0;34m\u001b[0m\u001b[0;34m\u001b[0m\u001b[0m\n\u001b[0m\u001b[1;32m      5\u001b[0m \u001b[0mjaspar_matrix\u001b[0m\u001b[0;34m=\u001b[0m\u001b[0mrequests\u001b[0m\u001b[0;34m.\u001b[0m\u001b[0mget\u001b[0m\u001b[0;34m(\u001b[0m\u001b[0;34m'http://jaspar.genereg.net/api/v1/matrix/MA0823.1/?format=jaspar'\u001b[0m\u001b[0;34m)\u001b[0m\u001b[0;34m\u001b[0m\u001b[0;34m\u001b[0m\u001b[0m\n\u001b[1;32m      6\u001b[0m \u001b[0mjaspar_matrix\u001b[0m\u001b[0;34m.\u001b[0m\u001b[0mcontent\u001b[0m\u001b[0;34m\u001b[0m\u001b[0;34m\u001b[0m\u001b[0m\n",
      "\u001b[0;31mNameError\u001b[0m: name 'f4' is not defined"
     ]
    }
   ],
   "source": [
    "import requests\n",
    "jaspar_matrix=requests.get('http://jaspar.genereg.net/api/v1/matrix/MA1100.1/?format=jaspar')\n",
    "jaspar_matrix.content\n",
    "f4.write(jaspar_matrix.content)\n",
    "jaspar_matrix=requests.get('http://jaspar.genereg.net/api/v1/matrix/MA0823.1/?format=jaspar')\n",
    "jaspar_matrix.content\n",
    "f4.append(jaspar_matrix.content)\n",
    "jaspar_matrix=requests.get('http://jaspar.genereg.net/api/v1/matrix/MA0649.1/?format=jaspar')\n",
    "jaspar_matrix.content\n",
    "jaspar_matrix=requests.get('http://jaspar.genereg.net/api/v1/matrix/MA1106.1/?format=jaspar')\n",
    "jaspar_matrix.content\n",
    "#with open(r'/Users/gcha0010/Documents/PhD work/2020/Matrices_from_Jaspar/TBX5_matrix.txt','wb') as f:\n",
    " #   f.write(jaspar_matrix.content)"
   ]
  },
  {
   "cell_type": "code",
   "execution_count": null,
   "metadata": {},
   "outputs": [],
   "source": []
  }
 ],
 "metadata": {
  "kernelspec": {
   "display_name": "Python 3",
   "language": "python",
   "name": "python3"
  },
  "language_info": {
   "codemirror_mode": {
    "name": "ipython",
    "version": 3
   },
   "file_extension": ".py",
   "mimetype": "text/x-python",
   "name": "python",
   "nbconvert_exporter": "python",
   "pygments_lexer": "ipython3",
   "version": "3.6.10"
  }
 },
 "nbformat": 4,
 "nbformat_minor": 4
}
