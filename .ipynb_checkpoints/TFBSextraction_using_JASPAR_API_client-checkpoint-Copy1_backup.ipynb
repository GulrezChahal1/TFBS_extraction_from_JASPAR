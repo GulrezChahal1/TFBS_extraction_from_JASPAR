{
 "cells": [
  {
   "cell_type": "code",
   "execution_count": 54,
   "metadata": {},
   "outputs": [],
   "source": [
    "#1.Accessing http://jaspar.genereg.net/api/clients#python to get the Matrix ID for the 90 cardiac TFS\n",
    "#2.Once those 90 TFs have been accessed, writing them to a file and extracting the URL correspoinding to their .jaspar matricx format\n",
    "#Step1:\n",
    "import coreapi\n",
    "import json\n",
    "from collections import OrderedDict "
   ]
  },
  {
   "cell_type": "code",
   "execution_count": 55,
   "metadata": {},
   "outputs": [],
   "source": [
    "client = coreapi.Client()\n",
    "schema = client.get(\"http://jaspar.genereg.net/api/v1/docs\")"
   ]
  },
  {
   "cell_type": "code",
   "execution_count": 56,
   "metadata": {},
   "outputs": [],
   "source": [
    "action = [\"matrix\", \"list\"]\n",
    "TF_names=[\"ARID2\", \"ASCL1\", \"HAND1\", \"HAND2\", \"HELT\", \"HES1\", \"HEY1\", \"HEY2\", \"HEYL\", \"HIF1A\", \"MESP1\", \"MESP2\", \"SCX\", \"TWIST1\", \"ATF2\", \"CREB1\", \"JUN\", \"GLI1\", \"GLI2\", \"GLI3\", \"OSR1\", \"OVOL2\", \"PRDM1\", \"REST\", \"SALL1\", \"SALL4\", \"SNAI1\", \"SNAI2\", \"WT1\", \"YY1\", \"ZBTB14\", \"ZFPM1\", \"ZFPM2\", \"ZIC3\", \"ZEB2\", \"RBPJ\", \"TFDP2\", \"FOXC1\", \"FOXC2\", \"FOXF1\", \"FOXH1\", \"FOXJ1\", \"FOXL1\", \"FOXN4\", \"GATA1\", \"GATA3\", \"GATA4\", \"GATA5\", \"GATA6\", \"GRHL2\", \"SOX11\", \"SOX17\", \"SOX18\", \"SOX4\", \"SOX6\", \"SOX9\", \"IRX4\", \"ISL1\", \"LBX1\", \"MEIS1\", \"MIXL1\", \"MSX1\", \"MSX2\", \"NKX2-5\", \"NKX2-6\", \"NKX3-1\", \"NOTO\", \"PITX2\", \"SHOX2\", \"SIX1\", \"POU4F1\", \"POU4F2\", \"MEF2A\", \"MEF2C\", \"MEF2D\", \"SRF\", \"PPARA\", \"PPARD\", \"PPARG\", \"RARA\", \"RARB\", \"RXRA\", \"TP53\", \"TP73\", \"PAX8\", \"PROX1\", \"NFATC1\", \"NFATC4\", \"SMAD1\", \"SMAD3\", \"SMAD4\", \"EOMES\", \"TBXT\", \"TBX1\", \"TBX2\", \"TBX20\", \"TBX3\", \"TBX5\", \"TEAD2\"]\n"
   ]
  },
  {
   "cell_type": "code",
   "execution_count": 1,
   "metadata": {},
   "outputs": [
    {
     "ename": "NameError",
     "evalue": "name 'TF_names' is not defined",
     "output_type": "error",
     "traceback": [
      "\u001b[0;31m---------------------------------------------------------------------------\u001b[0m",
      "\u001b[0;31mNameError\u001b[0m                                 Traceback (most recent call last)",
      "\u001b[0;32m<ipython-input-1-a65e4b0e0217>\u001b[0m in \u001b[0;36m<module>\u001b[0;34m\u001b[0m\n\u001b[1;32m      1\u001b[0m \u001b[0;31m#Step1: getting the matrix ID for the TFs using JASPAR coreAPI python client:url at the top\u001b[0m\u001b[0;34m\u001b[0m\u001b[0;34m\u001b[0m\u001b[0;34m\u001b[0m\u001b[0m\n\u001b[1;32m      2\u001b[0m \u001b[0mf\u001b[0m \u001b[0;34m=\u001b[0m \u001b[0mopen\u001b[0m\u001b[0;34m(\u001b[0m \u001b[0;34m'TFBS_JASPAR_Matrix_ID_info'\u001b[0m\u001b[0;34m,\u001b[0m \u001b[0;34m'w'\u001b[0m \u001b[0;34m)\u001b[0m\u001b[0;34m\u001b[0m\u001b[0;34m\u001b[0m\u001b[0m\n\u001b[0;32m----> 3\u001b[0;31m \u001b[0;32mfor\u001b[0m \u001b[0mi\u001b[0m \u001b[0;32min\u001b[0m \u001b[0mrange\u001b[0m\u001b[0;34m(\u001b[0m\u001b[0mlen\u001b[0m\u001b[0;34m(\u001b[0m\u001b[0mTF_names\u001b[0m\u001b[0;34m)\u001b[0m\u001b[0;34m)\u001b[0m\u001b[0;34m:\u001b[0m\u001b[0;34m\u001b[0m\u001b[0;34m\u001b[0m\u001b[0m\n\u001b[0m\u001b[1;32m      4\u001b[0m     params [i]  = { \n\u001b[1;32m      5\u001b[0m         \u001b[0;34m\"collection\"\u001b[0m\u001b[0;34m:\u001b[0m \u001b[0;34m'CORE'\u001b[0m\u001b[0;34m,\u001b[0m\u001b[0;34m\u001b[0m\u001b[0;34m\u001b[0m\u001b[0m\n",
      "\u001b[0;31mNameError\u001b[0m: name 'TF_names' is not defined"
     ]
    }
   ],
   "source": [
    "#Step1: getting the matrix ID for the TFs using JASPAR coreAPI python client:url at the top\n",
    "f = open( 'TFBS_JASPAR_Matrix_ID_info', 'w' )\n",
    "for i in range(len(TF_names)):\n",
    "    params [i]  = { \n",
    "        \"collection\": 'CORE',\n",
    "        \"name\": TF_names[i],\n",
    "        \"tax_group\": 'vertebrates',\n",
    "        \"version\": 'latest',\n",
    "        \"release\": '2018',\n",
    "        }\n",
    "    result [i] = client.action(schema, action, params=params[i])\n",
    "    #result = OrderedDict()\n",
    "result\n"
   ]
  },
  {
   "cell_type": "markdown",
   "metadata": {
    "collapsed": true
   },
   "source": []
  },
  {
   "cell_type": "code",
   "execution_count": 104,
   "metadata": {},
   "outputs": [],
   "source": [
    "#step2:part1: writing the matrix id info to a txt file:\n",
    "f=open( 'TFBS_JASPAR_Matrix_ID_info.txt', 'w' )\n",
    "for i in range(len(TF_names)):\n",
    "    params [i]  = {\n",
    "        \"collection\": 'CORE',\n",
    "        \"name\": TF_names[i],\n",
    "        \"tax_group\": 'vertebrates',\n",
    "        \"version\": 'latest',\n",
    "        \"release\": '2018',\n",
    "        }\n",
    "    result [i] = client.action(schema, action, params=params[i])\n",
    "    f.write(json.dumps(result[i])+\"\\n\")\n",
    "    result\n",
    "\n",
    "f.close()\n",
    "\n",
    "\n",
    "\n"
   ]
  },
  {
   "cell_type": "code",
   "execution_count": 73,
   "metadata": {},
   "outputs": [],
   "source": [
    "import requests"
   ]
  },
  {
   "cell_type": "code",
   "execution_count": null,
   "metadata": {},
   "outputs": [],
   "source": [
    "jaspar_matrix=requests.get('http://jaspar.genereg.net/api/v1/matrix/MA0807.1/?format=jaspar')"
   ]
  },
  {
   "cell_type": "code",
   "execution_count": null,
   "metadata": {},
   "outputs": [],
   "source": [
    "jaspar_matrix.contentqw"
   ]
  },
  {
   "cell_type": "code",
   "execution_count": null,
   "metadata": {},
   "outputs": [],
   "source": [
    "with open(r'/Users/gcha0010/Documents/PhD work/2020/Matrices_from_Jaspar/TBX5_matrix.txt','wb') as f:\n",
    "    f.write(jaspar_matrix.content)"
   ]
  },
  {
   "cell_type": "code",
   "execution_count": null,
   "metadata": {},
   "outputs": [],
   "source": []
  },
  {
   "cell_type": "code",
   "execution_count": null,
   "metadata": {},
   "outputs": [],
   "source": []
  },
  {
   "cell_type": "code",
   "execution_count": null,
   "metadata": {},
   "outputs": [],
   "source": []
  },
  {
   "cell_type": "code",
   "execution_count": null,
   "metadata": {},
   "outputs": [],
   "source": []
  },
  {
   "cell_type": "code",
   "execution_count": null,
   "metadata": {},
   "outputs": [],
   "source": []
  },
  {
   "cell_type": "code",
   "execution_count": null,
   "metadata": {},
   "outputs": [],
   "source": []
  }
 ],
 "metadata": {
  "kernelspec": {
   "display_name": "Python 3",
   "language": "python",
   "name": "python3"
  },
  "language_info": {
   "codemirror_mode": {
    "name": "ipython",
    "version": 3
   },
   "file_extension": ".py",
   "mimetype": "text/x-python",
   "name": "python",
   "nbconvert_exporter": "python",
   "pygments_lexer": "ipython3",
   "version": "3.6.10"
  }
 },
 "nbformat": 4,
 "nbformat_minor": 2
}
