{
 "cells": [
  {
   "cell_type": "code",
   "execution_count": 37,
   "metadata": {},
   "outputs": [],
   "source": [
    "import coreapi"
   ]
  },
  {
   "cell_type": "code",
   "execution_count": 33,
   "metadata": {
    "collapsed": true
   },
   "outputs": [],
   "source": [
    "client = coreapi.Client()\n",
    "schema = client.get(\"http://jaspar.genereg.net/api/v1/docs\")"
   ]
  },
  {
   "cell_type": "code",
   "execution_count": 34,
   "metadata": {},
   "outputs": [],
   "source": [
    "action = [\"matrix\", \"list\"]"
   ]
  },
  {
   "cell_type": "code",
   "execution_count": 35,
   "metadata": {},
   "outputs": [],
   "source": [
    "params = {\n",
    "    \"collection\": 'CORE',\n",
    "    \"name\": 'SMAD3',\n",
    "    \"tax_group\": 'vertebrates',\n",
    "    \"version\": 'latest',\n",
    "    \"release\": '2018',\n",
    "}\n",
    "result = client.action(schema, action, params=params)"
   ]
  },
  {
   "cell_type": "code",
   "execution_count": 36,
   "metadata": {},
   "outputs": [
    {
     "data": {
      "text/plain": [
       "OrderedDict([('count', 1),\n",
       "             ('next', None),\n",
       "             ('previous', None),\n",
       "             ('results',\n",
       "              [OrderedDict([('matrix_id', 'MA0795.1'),\n",
       "                            ('name', 'SMAD3'),\n",
       "                            ('collection', 'CORE'),\n",
       "                            ('base_id', 'MA0795'),\n",
       "                            ('version', '1'),\n",
       "                            ('sequence_logo',\n",
       "                             'http://jaspar.genereg.net/static/logos/svg/MA0795.1.svg'),\n",
       "                            ('url',\n",
       "                             'http://jaspar.genereg.net/api/v1/matrix/MA0795.1/')])])])"
      ]
     },
     "execution_count": 36,
     "metadata": {},
     "output_type": "execute_result"
    }
   ],
   "source": [
    "result"
   ]
  },
  {
   "cell_type": "code",
   "execution_count": null,
   "metadata": {},
   "outputs": [],
   "source": [
    "#getting the matrix from the URL"
   ]
  },
  {
   "cell_type": "code",
   "execution_count": 39,
   "metadata": {
    "collapsed": true
   },
   "outputs": [],
   "source": [
    "import requests"
   ]
  },
  {
   "cell_type": "code",
   "execution_count": 42,
   "metadata": {},
   "outputs": [],
   "source": [
    "jaspar_matrix=requests.get('http://jaspar.genereg.net/api/v1/matrix/MA0795.1/?format=jaspar')"
   ]
  },
  {
   "cell_type": "code",
   "execution_count": null,
   "metadata": {
    "collapsed": true
   },
   "outputs": [],
   "source": []
  }
 ],
 "metadata": {
  "kernelspec": {
   "display_name": "Python 3",
   "language": "python",
   "name": "python3"
  },
  "language_info": {
   "codemirror_mode": {
    "name": "ipython",
    "version": 3
   },
   "file_extension": ".py",
   "mimetype": "text/x-python",
   "name": "python",
   "nbconvert_exporter": "python",
   "pygments_lexer": "ipython3",
   "version": "3.6.3"
  }
 },
 "nbformat": 4,
 "nbformat_minor": 2
}
