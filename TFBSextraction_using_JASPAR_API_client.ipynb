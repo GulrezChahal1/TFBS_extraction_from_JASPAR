{
 "cells": [
  {
   "cell_type": "code",
   "execution_count": 61,
   "metadata": {},
   "outputs": [],
   "source": [
    "import coreapi"
   ]
  },
  {
   "cell_type": "code",
   "execution_count": 62,
   "metadata": {
    "collapsed": true
   },
   "outputs": [],
   "source": [
    "client = coreapi.Client()\n",
    "schema = client.get(\"http://jaspar.genereg.net/api/v1/docs\")"
   ]
  },
  {
   "cell_type": "code",
   "execution_count": 63,
   "metadata": {},
   "outputs": [],
   "source": [
    "action = [\"matrix\", \"list\"]"
   ]
  },
  {
   "cell_type": "code",
   "execution_count": 65,
   "metadata": {},
   "outputs": [
    {
     "data": {
      "text/plain": [
       "OrderedDict([('count', 1),\n",
       "             ('next', None),\n",
       "             ('previous', None),\n",
       "             ('results',\n",
       "              [OrderedDict([('matrix_id', 'MA0807.1'),\n",
       "                            ('name', 'TBX5'),\n",
       "                            ('collection', 'CORE'),\n",
       "                            ('base_id', 'MA0807'),\n",
       "                            ('version', '1'),\n",
       "                            ('sequence_logo',\n",
       "                             'http://jaspar.genereg.net/static/logos/svg/MA0807.1.svg'),\n",
       "                            ('url',\n",
       "                             'http://jaspar.genereg.net/api/v1/matrix/MA0807.1/')])])])"
      ]
     },
     "execution_count": 65,
     "metadata": {},
     "output_type": "execute_result"
    }
   ],
   "source": [
    "params = {\n",
    "    \"collection\": 'CORE',\n",
    "    \"name\": 'TBX5',\n",
    "    \"tax_group\": 'vertebrates',\n",
    "    \"version\": 'latest',\n",
    "    \"release\": '2018',\n",
    "}\n",
    "result = client.action(schema, action, params=params)\n",
    "result"
   ]
  },
  {
   "cell_type": "markdown",
   "metadata": {
    "collapsed": true
   },
   "source": []
  },
  {
   "cell_type": "code",
   "execution_count": 57,
   "metadata": {},
   "outputs": [],
   "source": [
    "#getting the matrix from the URL"
   ]
  },
  {
   "cell_type": "code",
   "execution_count": 66,
   "metadata": {
    "collapsed": true
   },
   "outputs": [],
   "source": [
    "import requests"
   ]
  },
  {
   "cell_type": "code",
   "execution_count": 67,
   "metadata": {},
   "outputs": [],
   "source": [
    "jaspar_matrix=requests.get('http://jaspar.genereg.net/api/v1/matrix/MA0807.1/?format=jaspar')"
   ]
  },
  {
   "cell_type": "code",
   "execution_count": 68,
   "metadata": {},
   "outputs": [
    {
     "data": {
      "text/plain": [
       "b'>MA0807.1\\tTBX5\\nA  [  1804    235      0     45     27    162    126   1804 ]\\nC  [    89    190      0    131      0    225    616     76 ]\\nG  [   409   1804   1804    166   1804    201   1804    343 ]\\nT  [   207    133     28   1804      0   1804    915    283 ]\\n'"
      ]
     },
     "execution_count": 68,
     "metadata": {},
     "output_type": "execute_result"
    }
   ],
   "source": [
    "jaspar_matrix.content"
   ]
  },
  {
   "cell_type": "code",
   "execution_count": 69,
   "metadata": {},
   "outputs": [],
   "source": [
    "with open(r'/Users/gcha0010/Documents/PhD work/2020/Matrices_from_Jaspar/TBX5_matrix.txt','wb') as f:\n",
    "    f.write(jaspar_matrix.content)"
   ]
  },
  {
   "cell_type": "code",
   "execution_count": null,
   "metadata": {
    "collapsed": true
   },
   "outputs": [],
   "source": []
  }
 ],
 "metadata": {
  "kernelspec": {
   "display_name": "Python 3",
   "language": "python",
   "name": "python3"
  },
  "language_info": {
   "codemirror_mode": {
    "name": "ipython",
    "version": 3
   },
   "file_extension": ".py",
   "mimetype": "text/x-python",
   "name": "python",
   "nbconvert_exporter": "python",
   "pygments_lexer": "ipython3",
   "version": "3.6.3"
  }
 },
 "nbformat": 4,
 "nbformat_minor": 2
}
